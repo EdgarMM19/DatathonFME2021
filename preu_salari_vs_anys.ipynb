{
 "cells": [
  {
   "cell_type": "code",
   "execution_count": 75,
   "id": "feecf9c7-c1b6-4c2f-b7a2-4d3d470af9f4",
   "metadata": {},
   "outputs": [],
   "source": [
    "import pandas as pd\n",
    "import os\n",
    "import matplotlib.pyplot as plt\n",
    "\n",
    "directory = r'dades_merged/'\n",
    "\n",
    "preus_lloguers = pd.read_csv(directory + 'lloguer_preu_trim_amb_trimestres.csv')\n",
    "salaris = pd.read_csv(directory + 'renda_barcelona.csv')"
   ]
  },
  {
   "cell_type": "code",
   "execution_count": 76,
   "id": "c24636da-87d7-417a-9c28-3eeb1ec69cf0",
   "metadata": {},
   "outputs": [
    {
     "data": {
      "text/plain": [
       "[<matplotlib.lines.Line2D at 0x106096640>]"
      ]
     },
     "execution_count": 76,
     "metadata": {},
     "output_type": "execute_result"
    },
    {
     "data": {
      "image/png": "[encoded data removed]",
      "text/plain": [
       "<Figure size 432x288 with 1 Axes>"
      ]
     },
     "metadata": {
      "needs_background": "light"
     },
     "output_type": "display_data"
    }
   ],
   "source": [
    "Anys = preus_lloguers['Any'].unique()\n",
    "preus = [0]*len(preus_lloguers['Any'].unique())\n",
    "\n",
    "\n",
    "p = {'Any': Anys, 'preus': preus}\n",
    "\n",
    "preus_anys = pd.DataFrame(data=p)\n",
    "\n",
    "for Any in preus_lloguers['Any'].unique():\n",
    "    preu = preus_lloguers.loc[(preus_lloguers['Any'] == Any) & (preus_lloguers['Lloguer_mitja'] == \"Lloguer mitjà mensual (Euros/mes)\"), 'Preu'].sum()/(4*73)\n",
    "    preus_anys.loc[preus_anys['Any'] == Any, 'preus'] = preu\n",
    "    \n",
    "plt.plot(preus_anys['Any'], preus_anys['preus'])"
   ]
  },
  {
   "cell_type": "code",
   "execution_count": 42,
   "id": "774d3a95-43e5-4a57-b49c-4247000ed802",
   "metadata": {},
   "outputs": [
    {
     "data": {
      "text/plain": [
       "0       2015\n",
       "1       2015\n",
       "2       2015\n",
       "3       2015\n",
       "4       2015\n",
       "        ... \n",
       "4267    2018\n",
       "4268    2018\n",
       "4269    2018\n",
       "4270    2018\n",
       "4271    2018\n",
       "Name: Any, Length: 4272, dtype: int64"
      ]
     },
     "execution_count": 42,
     "metadata": {},
     "output_type": "execute_result"
    }
   ],
   "source": [
    "preus_lloguers['Any']"
   ]
  },
  {
   "cell_type": "code",
   "execution_count": null,
   "id": "9c31eab1-5155-4ebe-b371-760a2e16aedb",
   "metadata": {},
   "outputs": [],
   "source": []
  }
 ],
 "metadata": {
  "kernelspec": {
   "display_name": "Python 3",
   "language": "python",
   "name": "python3"
  },
  "language_info": {
   "codemirror_mode": {
    "name": "ipython",
    "version": 3
   },
   "file_extension": ".py",
   "mimetype": "text/x-python",
   "name": "python",
   "nbconvert_exporter": "python",
   "pygments_lexer": "ipython3",
   "version": "3.8.5"
  }
 },
 "nbformat": 4,
 "nbformat_minor": 5
}
