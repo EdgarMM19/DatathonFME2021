{
 "cells": [
  {
   "cell_type": "code",
   "execution_count": 27,
   "id": "2d2f244a-e24c-4a5f-b623-165468dd1979",
   "metadata": {},
   "outputs": [],
   "source": [
    "import pandas as pd\n",
    "import os\n",
    "\n",
    "directory = r'dades/padro_ocupacio_mitjana'\n",
    "name_to_save = 'padro_ocupacio_mitjana.csv'\n",
    "\n",
    "dfs = []\n",
    "\n",
    "for filename in os.listdir(directory):\n",
    "    if filename.endswith('.csv'):\n",
    "        dfs = dfs + [pd.read_csv(directory + '/' + filename)]\n",
    "        \n",
    "data = pd.concat(dfs)\n",
    "data.sort_values('Any', inplace=True)\n",
    "\n",
    "data.to_csv(name_to_save)"
   ]
  },
  {
   "cell_type": "code",
   "execution_count": null,
   "id": "04819295-be20-403c-93dd-0da856fdc56c",
   "metadata": {},
   "outputs": [],
   "source": [
    "    \n",
    "for col in df:\n",
    "    if df[col].dtype == 'object':\n",
    "        df[col] = pd.Categorical(df[col]).codes\n",
    "        df[col] = df[col].astype('category')\n",
    "\n",
    "print(df.dtypes)\n",
    "df.head(10)"
   ]
  },
  {
   "cell_type": "code",
   "execution_count": null,
   "id": "650fbcb1-26ce-4dc0-9b50-e83483519d43",
   "metadata": {},
   "outputs": [],
   "source": []
  }
 ],
 "metadata": {
  "kernelspec": {
   "display_name": "Python 3",
   "language": "python",
   "name": "python3"
  },
  "language_info": {
   "codemirror_mode": {
    "name": "ipython",
    "version": 3
   },
   "file_extension": ".py",
   "mimetype": "text/x-python",
   "name": "python",
   "nbconvert_exporter": "python",
   "pygments_lexer": "ipython3",
   "version": "3.8.5"
  }
 },
 "nbformat": 4,
 "nbformat_minor": 5
}
