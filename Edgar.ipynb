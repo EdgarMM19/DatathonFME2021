{
 "cells": [
  {
   "cell_type": "code",
   "execution_count": 2,
   "metadata": {},
   "outputs": [],
   "source": [
    "import pandas as pd\n",
    "\n",
    "rendes_per_cent = pd.read_csv(\"./dades_merged/distribucio_territorial_renda_familiar.csv\")\n",
    "rendes_per_cent = rendes_per_cent[rendes_per_cent.Any == 2017]\n",
    "rendes_per_cent = rendes_per_cent[[\"Nom_Districte\", \"Codi_Barri\", \"Nom_Barri\", \"percentatge\"]]\n",
    "rendes_per_cent[\"percentatge\"] = pd.to_numeric(rendes_per_cent[\"percentatge\"])\n",
    "lista_pobres = rendes_per_cent[rendes_per_cent.percentatge < 75]\n",
    "lista_pobres\n",
    "lista_mig_baix = rendes_per_cent[rendes_per_cent.percentatge >= 75]\n",
    "lista_mig_baix = lista_mig_baix[lista_mig_baix.percentatge < 100]\n",
    "lista_mig_baix\n",
    "lista_mig_alt = rendes_per_cent[rendes_per_cent.percentatge >= 100]\n",
    "lista_mig_alt = lista_mig_alt[lista_mig_alt.percentatge < 140]\n",
    "lista_alt = rendes_per_cent[rendes_per_cent.percentatge >= 140]\n",
    "lista_alt.to_csv(\"./tipus_barris/alt.csv\", index = False)\n",
    "lista_mig_alt.to_csv(\"./tipus_barris/mig_alt.csv\", index = False)\n",
    "lista_mig_baix.to_csv(\"./tipus_barris/mig_baix.csv\", index = False)\n",
    "lista_pobres.to_csv(\"./tipus_barris/baix.csv\", index = False)"
   ]
  },
  {
   "cell_type": "code",
   "execution_count": null,
   "metadata": {},
   "outputs": [],
   "source": []
  },
  {
   "cell_type": "code",
   "execution_count": null,
   "metadata": {},
   "outputs": [],
   "source": []
  }
 ],
 "metadata": {
  "kernelspec": {
   "display_name": "Python 3",
   "language": "python",
   "name": "python3"
  },
  "language_info": {
   "codemirror_mode": {
    "name": "ipython",
    "version": 3
   },
   "file_extension": ".py",
   "mimetype": "text/x-python",
   "name": "python",
   "nbconvert_exporter": "python",
   "pygments_lexer": "ipython3",
   "version": "3.6.4"
  }
 },
 "nbformat": 4,
 "nbformat_minor": 2
}
